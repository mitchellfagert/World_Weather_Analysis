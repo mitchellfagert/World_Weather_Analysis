{
 "cells": [
  {
   "cell_type": "code",
   "execution_count": 1,
   "id": "7e1e0947",
   "metadata": {},
   "outputs": [],
   "source": [
    "# Import the random module.\n",
    "import random"
   ]
  },
  {
   "cell_type": "code",
   "execution_count": 2,
   "id": "b9f33ef6",
   "metadata": {},
   "outputs": [
    {
     "data": {
      "text/plain": [
       "-14"
      ]
     },
     "execution_count": 2,
     "metadata": {},
     "output_type": "execute_result"
    }
   ],
   "source": [
    "random.randint(-90,90)"
   ]
  },
  {
   "cell_type": "code",
   "execution_count": 3,
   "id": "9bb9247f",
   "metadata": {},
   "outputs": [
    {
     "data": {
      "text/plain": [
       "0.455153671919046"
      ]
     },
     "execution_count": 3,
     "metadata": {},
     "output_type": "execute_result"
    }
   ],
   "source": [
    "random.random()"
   ]
  },
  {
   "cell_type": "code",
   "execution_count": 4,
   "id": "3517465d",
   "metadata": {},
   "outputs": [
    {
     "data": {
      "text/plain": [
       "79.94866550961194"
      ]
     },
     "execution_count": 4,
     "metadata": {},
     "output_type": "execute_result"
    }
   ],
   "source": [
    "random_number = random.randint(-90,89) + random.random()\n",
    "random_number"
   ]
  },
  {
   "cell_type": "code",
   "execution_count": 10,
   "id": "2f2deef3",
   "metadata": {},
   "outputs": [
    {
     "data": {
      "text/plain": [
       "[28.773150707379887,\n",
       " 57.44087278788876,\n",
       " -57.25199128743113,\n",
       " 80.41693024075659,\n",
       " -19.521969086377844,\n",
       " 50.360580467104526,\n",
       " -43.79858938465605,\n",
       " 27.821372862577654,\n",
       " -35.61332389486524,\n",
       " 81.28346423556027]"
      ]
     },
     "execution_count": 10,
     "metadata": {},
     "output_type": "execute_result"
    }
   ],
   "source": [
    "#Sample code to generate ten randmoon floting-point decimal latitues between -90 and 89.\n",
    "x = 1\n",
    "latitudes = []\n",
    "while x < 11:\n",
    "    random_lat = random.randint(-90,89) + random.random()\n",
    "    latitudes.append(random_lat)\n",
    "    x+= 1\n",
    "latitudes"
   ]
  },
  {
   "cell_type": "code",
   "execution_count": 11,
   "id": "12a28861",
   "metadata": {},
   "outputs": [
    {
     "data": {
      "text/plain": [
       "46"
      ]
     },
     "execution_count": 11,
     "metadata": {},
     "output_type": "execute_result"
    }
   ],
   "source": [
    "random.randrange(-90,90,step=1)"
   ]
  },
  {
   "cell_type": "code",
   "execution_count": 12,
   "id": "6366ce8f",
   "metadata": {},
   "outputs": [
    {
     "data": {
      "text/plain": [
       "48"
      ]
     },
     "execution_count": 12,
     "metadata": {},
     "output_type": "execute_result"
    }
   ],
   "source": [
    "random.randrange(-90,90,step=3)"
   ]
  },
  {
   "cell_type": "code",
   "execution_count": 13,
   "id": "0da3ca95",
   "metadata": {},
   "outputs": [
    {
     "data": {
      "text/plain": [
       "-84.94678651329033"
      ]
     },
     "execution_count": 13,
     "metadata": {},
     "output_type": "execute_result"
    }
   ],
   "source": [
    "random.uniform(-90,90)"
   ]
  },
  {
   "cell_type": "code",
   "execution_count": 14,
   "id": "9e087225",
   "metadata": {},
   "outputs": [],
   "source": [
    "#Import the NumPy Module. NumPy module is a numerical mathematics library that can be used to make arrays or matrices of numbers.\n",
    "import numpy as np"
   ]
  },
  {
   "cell_type": "code",
   "execution_count": 15,
   "id": "16928df9",
   "metadata": {},
   "outputs": [
    {
     "data": {
      "text/plain": [
       "74.99434733650386"
      ]
     },
     "execution_count": 15,
     "metadata": {},
     "output_type": "execute_result"
    }
   ],
   "source": [
    "np.random.uniform(-90.000, 90.000)"
   ]
  },
  {
   "cell_type": "code",
   "execution_count": 16,
   "id": "8faca28f",
   "metadata": {},
   "outputs": [
    {
     "data": {
      "text/plain": [
       "array([-10.3555518 , -60.34804948,  24.79725887,  44.06095427,\n",
       "       -70.21389065, -61.58146469, -12.86580686, -54.73722744,\n",
       "       -84.42682333,  83.06692029,  71.00391586,  24.1068449 ,\n",
       "        51.61848413,  87.60431121, -58.50512034,  22.64128554,\n",
       "       -33.0855827 , -27.17174519,  78.15137888, -83.64094463,\n",
       "       -59.92599557,  47.61713946,  54.21976162,   0.9645337 ,\n",
       "       -40.11259863, -72.70128026, -12.98609632, -25.96244112,\n",
       "        32.93366457,  43.50086968,   8.38315775,  19.52971942,\n",
       "       -32.57144519,  70.7171932 ,  12.82419714, -47.05391156,\n",
       "       -65.49680469, -39.43896499,  22.59787675, -51.72142219,\n",
       "       -88.8005658 , -85.38402299,  64.86482988,  60.41368783,\n",
       "        43.75437781, -67.40885633,  17.74762277,  67.21680399,\n",
       "       -45.81956083, -15.0239509 ])"
      ]
     },
     "execution_count": 16,
     "metadata": {},
     "output_type": "execute_result"
    }
   ],
   "source": [
    "np.random.uniform(-90.000, 90.000, size=50)"
   ]
  },
  {
   "cell_type": "code",
   "execution_count": 17,
   "id": "5f5d0436",
   "metadata": {},
   "outputs": [],
   "source": [
    "#Import timeit to test the speed of this code\n",
    "import timeit"
   ]
  },
  {
   "cell_type": "code",
   "execution_count": 18,
   "id": "14040b1b",
   "metadata": {},
   "outputs": [
    {
     "name": "stdout",
     "output_type": "stream",
     "text": [
      "30.8 µs ± 1.26 µs per loop (mean ± std. dev. of 7 runs, 10000 loops each)\n"
     ]
    }
   ],
   "source": [
    "%timeit np.random.uniform(-90.000, 90.000, size=1500)"
   ]
  },
  {
   "cell_type": "code",
   "execution_count": 19,
   "id": "bbe44db2",
   "metadata": {},
   "outputs": [
    {
     "name": "stdout",
     "output_type": "stream",
     "text": [
      "3.77 ms ± 149 µs per loop (mean ± std. dev. of 7 runs, 100 loops each)\n"
     ]
    }
   ],
   "source": [
    "def latitudes(size):\n",
    "    latitudes = []\n",
    "    x = 0\n",
    "    while x < (size):\n",
    "        random_lat = random.randint(-90, 90) + random.random()\n",
    "        latitudes.append(random_lat)\n",
    "        x += 1\n",
    "    return latitudes\n",
    "# Call the function with 1500.\n",
    "%timeit latitudes(1500)"
   ]
  },
  {
   "cell_type": "code",
   "execution_count": null,
   "id": "7512722d",
   "metadata": {},
   "outputs": [],
   "source": []
  }
 ],
 "metadata": {
  "kernelspec": {
   "display_name": "PythonData",
   "language": "python",
   "name": "pythondata"
  },
  "language_info": {
   "codemirror_mode": {
    "name": "ipython",
    "version": 3
   },
   "file_extension": ".py",
   "mimetype": "text/x-python",
   "name": "python",
   "nbconvert_exporter": "python",
   "pygments_lexer": "ipython3",
   "version": "3.7.13"
  }
 },
 "nbformat": 4,
 "nbformat_minor": 5
}
